{
  "cells": [
    {
      "cell_type": "code",
      "execution_count": null,
      "metadata": {
        "collapsed": false
      },
      "outputs": [],
      "source": [
        "%matplotlib inline"
      ]
    },
    {
      "cell_type": "markdown",
      "metadata": {},
      "source": [
        "\n# calculate ODNP\n\nThis example demonstrates how to use the odnp module\n"
      ]
    },
    {
      "cell_type": "markdown",
      "metadata": {},
      "source": [
        "First import the odnp module of hanlab, dnplab, and numpy,\n\n"
      ]
    },
    {
      "cell_type": "code",
      "execution_count": null,
      "metadata": {
        "collapsed": false
      },
      "outputs": [],
      "source": [
        "import dnplab\nfrom hanlab import odnp\nimport numpy as np"
      ]
    },
    {
      "cell_type": "markdown",
      "metadata": {},
      "source": [
        "To use the odnp module first create a dictionary with the necessary inputs. You may use odnp with DNPLab by creating a workspace and assinging the inputs dictionary to the key **'hydration_inputs'**. For example, start by defining the inputs dictionary,\n\n"
      ]
    },
    {
      "cell_type": "code",
      "execution_count": null,
      "metadata": {
        "collapsed": false
      },
      "outputs": [],
      "source": [
        "Enhancements = [] # list of signal enhancements\nEnhancement_powers = [] # list of powers in Watts corresponding to Enhancements\nT1s = [] # list of T1 values in seconds\nT1_powers = [] # list of powers in Watts corresponding to T1s\n\ninputs = {\n          'E_array' : np.array(Enhancements),\n          'E_powers' : np.array(Enhancement_powers),\n          'T1_array' : np.array(T1s),\n          'T1_powers' : np.array(T1_powers),\n          'T10': 2.0, # T1 measured with power=0\n          'T100': 2.5, # T1 measured with SL=0 and power=0\n          'spin_C': 100, # spin concentration in micromolar\n          'field': 350, # magnetic field in mT\n          'smax_model': 'tethered', # choice of smax model\n          'interpolate_method': 'second_order' # choice of interpolation method\n          }"
      ]
    },
    {
      "cell_type": "markdown",
      "metadata": {},
      "source": [
        "Now you can either create a workspace and add the dictionary under the key **'hydration_inputs'**,\n\n"
      ]
    },
    {
      "cell_type": "code",
      "execution_count": null,
      "metadata": {
        "collapsed": false
      },
      "outputs": [],
      "source": [
        "workspace = dnplab.create_workspace('hydration_inputs', inputs)"
      ]
    },
    {
      "cell_type": "markdown",
      "metadata": {},
      "source": [
        "Or add to an existing workspace,\n\n"
      ]
    },
    {
      "cell_type": "code",
      "execution_count": null,
      "metadata": {
        "collapsed": false
      },
      "outputs": [],
      "source": [
        "workspace.add('hydration_inputs', inputs)"
      ]
    },
    {
      "cell_type": "markdown",
      "metadata": {},
      "source": [
        "In rare cases the bulk water or second order T1 interpolation constants may need to be altered. This is not necessary for the odnp module to operate, but if needed this can be done by adding the dictionary **'hydration_constants'** to the workspace. For example,\n\n"
      ]
    },
    {
      "cell_type": "code",
      "execution_count": null,
      "metadata": {
        "collapsed": false
      },
      "outputs": [],
      "source": [
        "constants = {\n             'ksigma_bulk': 95.4, # bulk ksigma value\n             'krho_bulk': 353.4, # bulk krho value\n             'klow_bulk': 366, # bulk klow value\n             'tcorr_bulk': 54, # bulk tcorr value\n             'D_H2O': 2.3e-9, # bulk water diffusivity\n             'D_SL': 4.1e-10, # diffusivity of spin probe in bulk water\n             'delta_T1_water': 1, # change in water proton T1 due to microwaves\n             'T1_water': 2.5, # T1 of bulk water protons\n             'macro_C': 100, # concentration of macromolecule in uM\n             }\n\nworkspace.add('hydration_constants', constants)"
      ]
    },
    {
      "cell_type": "markdown",
      "metadata": {},
      "source": [
        "Next, pass the workspace to odnp.hydration to perform calculations using,\n\n"
      ]
    },
    {
      "cell_type": "code",
      "execution_count": null,
      "metadata": {
        "collapsed": false
      },
      "outputs": [],
      "source": [
        "hydration_results = odnp.hydration(workspace)"
      ]
    },
    {
      "cell_type": "markdown",
      "metadata": {},
      "source": [
        "or operate in-place with:\n\n"
      ]
    },
    {
      "cell_type": "code",
      "execution_count": null,
      "metadata": {
        "collapsed": false
      },
      "outputs": [],
      "source": [
        "odnp.hydration(workspace)"
      ]
    },
    {
      "cell_type": "markdown",
      "metadata": {},
      "source": [
        "For use without creating a DNPLab workspace simply skip the above steps and pass the dictionaries to odnp directly,\n\n"
      ]
    },
    {
      "cell_type": "code",
      "execution_count": null,
      "metadata": {
        "collapsed": false
      },
      "outputs": [],
      "source": [
        "hydration_results = odnp.hydration(inputs=inputs, constants=constants)"
      ]
    }
  ],
  "metadata": {
    "kernelspec": {
      "display_name": "Python 3",
      "language": "python",
      "name": "python3"
    },
    "language_info": {
      "codemirror_mode": {
        "name": "ipython",
        "version": 3
      },
      "file_extension": ".py",
      "mimetype": "text/x-python",
      "name": "python",
      "nbconvert_exporter": "python",
      "pygments_lexer": "ipython3",
      "version": "3.7.7"
    }
  },
  "nbformat": 4,
  "nbformat_minor": 0
}